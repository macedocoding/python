{
 "cells": [
  {
   "cell_type": "markdown",
   "id": "ac704846",
   "metadata": {},
   "source": [
    "# Conceitos básicos de Python\n",
    "\n",
    "## Breve apresentação\n",
    "\n",
    "Python foi criada por Guido van Rossum em 1991 e tem as seguintes características:\n",
    "\n",
    "- Alto nível\n",
    "- Propósito geral\n",
    "- Interpretada\n",
    "- Funcional\n",
    "- Imperativa\n",
    "- Orientada a objetos\n",
    "- Multiplataforma\n",
    "- Dinamicamente tipada\n",
    "- Tipagem forte\n",
    "\n",
    "É construída de modo que indentações sejam obrigatórias e isto, somado à sua sintaxe de fácil leitura, torna o código muito legível. [Consultar PEP8](https://www.python.org/dev/peps/pep-0008/) para mais definições de estilo em Python.\n"
   ]
  },
  {
   "cell_type": "markdown",
   "id": "d8f5a948",
   "metadata": {},
   "source": [
    "## Primeiros comandos\n",
    "\n",
    "- `help()` é uma função built-in que retorna o utilitário de ajuda do Python. Passando-se um comando como argumento, um texto com ajuda específica é retornado.\n",
    "- `dir()` função built-in que retorna uma lista de objetos em um namespace particular. Sem parâmetros, ela retorna os objetos globais mas também pode retornar objetos de um módulo ou, até mesmo, de um tipo.\n",
    "- `globals()` e `locals()` funções built-in que retornam os valores associados aos objetos, como diferença de escopos.\n",
    "- `print()` função que retorna, através dasaída padrão (standard output) o que foi passado como argumento (strings, variáveis resultado de operações etc.).\n"
   ]
  }
 ],
 "metadata": {
  "kernelspec": {
   "display_name": "Python 3 (ipykernel)",
   "language": "python",
   "name": "python3"
  },
  "language_info": {
   "codemirror_mode": {
    "name": "ipython",
    "version": 3
   },
   "file_extension": ".py",
   "mimetype": "text/x-python",
   "name": "python",
   "nbconvert_exporter": "python",
   "pygments_lexer": "ipython3",
   "version": "3.9.7"
  }
 },
 "nbformat": 4,
 "nbformat_minor": 5
}
