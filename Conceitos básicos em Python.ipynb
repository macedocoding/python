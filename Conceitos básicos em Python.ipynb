{
 "cells": [
  {
   "cell_type": "markdown",
   "id": "ac704846",
   "metadata": {},
   "source": [
    "# Conceitos básicos de Python\n",
    "\n",
    "## Breve apresentação\n",
    "\n",
    "Python foi criada por Guido van Rossum em 1991 e tem as seguintes características:\n",
    "\n",
    "- Alto nível\n",
    "- Propósito geral\n",
    "- Interpretada\n",
    "- Funcional\n",
    "- Imperativa\n",
    "- Orientada a objetos\n",
    "- Multiplataforma\n",
    "- Dinamicamente tipada\n",
    "- Tipagem forte\n",
    "\n",
    "É construída de modo que indentações sejam obrigatórias e isto, somado à sua sintaxe de fácil leitura, torna o código muito legível. [Consultar PEP8](https://www.python.org/dev/peps/pep-0008/) para mais definições de estilo em Python.\n"
   ]
  },
  {
   "cell_type": "markdown",
   "id": "d8f5a948",
   "metadata": {},
   "source": [
    "## Primeiros passos\n",
    "\n",
    "Após a instalação do interpretador Python e configuração da variável PATH em seu sistema operacional, você deve ser capaz de iniciar, a partir do emulador de terminal, o modo interativo que permite que você execute e teste *snippets* (trechos de código)."
   ]
  }
 ],
 "metadata": {
  "kernelspec": {
   "display_name": "Python 3 (ipykernel)",
   "language": "python",
   "name": "python3"
  },
  "language_info": {
   "codemirror_mode": {
    "name": "ipython",
    "version": 3
   },
   "file_extension": ".py",
   "mimetype": "text/x-python",
   "name": "python",
   "nbconvert_exporter": "python",
   "pygments_lexer": "ipython3",
   "version": "3.9.7"
  }
 },
 "nbformat": 4,
 "nbformat_minor": 5
}
