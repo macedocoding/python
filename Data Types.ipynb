{
 "cells": [
  {
   "cell_type": "markdown",
   "metadata": {},
   "source": [
    "## Tipos de Dados (Data Types) em Python\n",
    "\n",
    "Python possui vários tipos de dados embutidos (built-in data types) como inteiros, floats, complexos, strings, listas, tuplas, dicionários e objetos arquivos, apenas citando os mais comuns."
   ]
  },
  {
   "cell_type": "markdown",
   "metadata": {},
   "source": [
    "## Números \n",
    "\n",
    "Os quatro tipos numéricos em Python são inteiros (integers), floats (números com ponto flutuante), complex numbers (números complexos) e Booleans (Booleanos):\n",
    "\n",
    "- Inteiros - 1, 42, 987654321, -55555 (não há limites para o tamanho de um inteiro, exceto pela memória disponível)\n",
    "- Floats - 3.1415, 1e8, -2e-4\n",
    "- Complexos - 2 + i, -7 + 7j, 2.1 - 7.4j\n",
    "- Booleanos - True, False\n",
    "\n",
    "Podemos manipulá-los através dos operadores aritméticos + (adição), - (subtração), * (multiplicação), / (divisão retornando float), // (divisão com truncação) ** (potenciação) e % (módulo):\n",
    "\n",
    "    >>> resultado = 3.1415 + 45 / 5 * 9 - 3.1415\n",
    "    >>> resultado\n",
    "    81\n",
    "    >>> 3 % 2\n",
    "    1\n",
    "    >>> 7 // 3\n",
    "    2\n",
    "\n"
   ]
  }
 ],
 "metadata": {
  "language_info": {
   "name": "python"
  },
  "orig_nbformat": 4
 },
 "nbformat": 4,
 "nbformat_minor": 2
}
